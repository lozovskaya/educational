{
  "nbformat": 4,
  "nbformat_minor": 0,
  "metadata": {
    "colab": {
      "provenance": [],
      "authorship_tag": "ABX9TyOWAupLp9l/X2AoFD1qL11d",
      "include_colab_link": true
    },
    "kernelspec": {
      "name": "python3",
      "display_name": "Python 3"
    },
    "language_info": {
      "name": "python"
    }
  },
  "cells": [
    {
      "cell_type": "markdown",
      "metadata": {
        "id": "view-in-github",
        "colab_type": "text"
      },
      "source": [
        "<a href=\"https://colab.research.google.com/github/lozovskaya/educational/blob/main/%5BRU%5D_Terminal_%D1%81%D0%BE%D0%B7%D0%B4%D0%B0%D0%B5%D0%BC_%D1%81%D0%B2%D0%BE%D1%8E_%D0%B8%D0%B3%D1%80%D1%83_%D0%B8_%D0%B2%D0%B2%D0%B5%D0%B4%D0%B5%D0%BD%D0%B8%D0%B5_%D0%B2_%D0%9E%D0%9E%D0%9F.ipynb\" target=\"_parent\"><img src=\"https://colab.research.google.com/assets/colab-badge.svg\" alt=\"Open In Colab\"/></a>"
      ]
    },
    {
      "cell_type": "markdown",
      "source": [
        "# Введение в ООП -- Объектно-ориентированное программирование"
      ],
      "metadata": {
        "id": "3CZLgLXgTxS0"
      }
    },
    {
      "cell_type": "markdown",
      "source": [
        "Вспомним, какие у нас в питоне вообще есть объекты:"
      ],
      "metadata": {
        "id": "XD8vtf8qhUJj"
      }
    },
    {
      "cell_type": "code",
      "source": [],
      "metadata": {
        "id": "1fpwO79thcCm"
      },
      "execution_count": null,
      "outputs": []
    },
    {
      "cell_type": "markdown",
      "source": [
        "## Классы и объекты\n"
      ],
      "metadata": {
        "id": "BWefG8wucKa3"
      }
    },
    {
      "cell_type": "markdown",
      "source": [
        "> *Класс* -- это наш собственный тип данных. У него есть атрибуты (переменные) и методы (функции)\n",
        "\n",
        "\n"
      ],
      "metadata": {
        "id": "yA5fcDgagrkm"
      }
    },
    {
      "cell_type": "code",
      "source": [
        "class Dog:\n",
        "    pass\n",
        "\n",
        "\n",
        "sharik = Dog()\n",
        "print(type(sharik))"
      ],
      "metadata": {
        "id": "KGjXCgHXhG3X"
      },
      "execution_count": null,
      "outputs": []
    },
    {
      "cell_type": "markdown",
      "source": [
        "### Атрибуты"
      ],
      "metadata": {
        "id": "VQIjmhxIhqqE"
      }
    },
    {
      "cell_type": "code",
      "source": [
        "class Dog:\n",
        "    def __init__(self, breed): # новый аттрибут: порода\n",
        "        self.breed = breed\n",
        "\n",
        "sharik = Dog(breed='Лабрадор')\n",
        "bobik = Dog(breed='Хаски')"
      ],
      "metadata": {
        "id": "ioJpVIzShq91"
      },
      "execution_count": null,
      "outputs": []
    },
    {
      "cell_type": "code",
      "source": [
        "# Напишем класс Cat с атрибутом \"имя\" (name)\n",
        "class Cat:\n",
        "  pass"
      ],
      "metadata": {
        "id": "X_LkEBYzkHdr"
      },
      "execution_count": null,
      "outputs": []
    },
    {
      "cell_type": "markdown",
      "source": [
        "### Методы"
      ],
      "metadata": {
        "id": "9PU0wTuPh9d0"
      }
    },
    {
      "cell_type": "code",
      "source": [
        "class Dog:\n",
        "    def __init__(self, breed):\n",
        "      self.breed = breed\n",
        "\n",
        "    def bark(self): # новый метод: гавк\n",
        "      print(\"Гав!\")\n",
        "\n",
        "sharik = Dog(breed='Лабрадор')\n",
        "sharik.bark()"
      ],
      "metadata": {
        "id": "VIn4JG9Sh6um"
      },
      "execution_count": null,
      "outputs": []
    },
    {
      "cell_type": "code",
      "source": [
        "# Напишем класс Cat с атрибутом \"имя\" (name) и методом \"мурчать\" (purr)\n",
        "class Cat:\n",
        "  pass"
      ],
      "metadata": {
        "id": "rFfwznHxj7CM"
      },
      "execution_count": null,
      "outputs": []
    },
    {
      "cell_type": "markdown",
      "source": [
        "### Специальные методы"
      ],
      "metadata": {
        "id": "cyK0b4Q8iiIP"
      }
    },
    {
      "cell_type": "code",
      "source": [
        "class Book:\n",
        "    def __init__(self, title, author, pages): # конструктор класса\n",
        "        print(\"Мы сделали книжку!\")\n",
        "        self.title = title\n",
        "        self.author = author\n",
        "        self.pages = pages"
      ],
      "metadata": {
        "id": "pvEmcReDil-E"
      },
      "execution_count": null,
      "outputs": []
    },
    {
      "cell_type": "code",
      "source": [
        "book = Book(\"Гарри Поттер\", \"Джоан Роулинг\", 159)"
      ],
      "metadata": {
        "id": "TTqz9TqZjD_k"
      },
      "execution_count": null,
      "outputs": []
    },
    {
      "cell_type": "code",
      "source": [
        "class Book:\n",
        "    def __init__(self, title, author, pages):\n",
        "        print(\"A book is created\")\n",
        "        self.title = title\n",
        "        self.author = author\n",
        "        self.pages = pages\n",
        "\n",
        "    def __str__(self): # преобразование класса в строчку: для красивого вывода\n",
        "        return f\"Название: {self.title}, автор: {self.author}, количество страничек: {self.pages}\""
      ],
      "metadata": {
        "id": "oUgo9jXOi27U"
      },
      "execution_count": null,
      "outputs": []
    },
    {
      "cell_type": "code",
      "source": [
        "book = Book(\"Гарри Поттер\", \"Джоан Роулинг\", 159)\n",
        "print(book)"
      ],
      "metadata": {
        "id": "7p-H_6znjNm0"
      },
      "execution_count": null,
      "outputs": []
    },
    {
      "cell_type": "code",
      "source": [
        "class Book:\n",
        "    def __init__(self, title, author, pages):\n",
        "        print(\"Мы сделали книжку!\")\n",
        "        self.title = title\n",
        "        self.author = author\n",
        "        self.pages = pages\n",
        "\n",
        "    def __str__(self):\n",
        "        return f\"Название: {self.title}, автор: {self.author}, количество страничек: {self.pages}\"\n",
        "\n",
        "    def __len__(self): # магический метод, который реализует функцию len()\n",
        "        return self.pages"
      ],
      "metadata": {
        "id": "St7XPLGbi3uW"
      },
      "execution_count": 8,
      "outputs": []
    },
    {
      "cell_type": "code",
      "source": [
        "book = Book(\"Гарри Поттер\", \"Джоан Роулинг\", 159)\n",
        "print(book)\n",
        "print(len(book))"
      ],
      "metadata": {
        "id": "ZJWdcKlnjctw"
      },
      "execution_count": null,
      "outputs": []
    },
    {
      "cell_type": "code",
      "source": [
        "class Book:\n",
        "    def __init__(self, title, author, pages):\n",
        "        print(\"Мы сделали книжку!\")\n",
        "        self.title = title\n",
        "        self.author = author\n",
        "        self.pages = pages\n",
        "\n",
        "    def __str__(self):\n",
        "        return f\"Название: {self.title}, автор: {self.author}, количество страничек: {self.pages}\"\n",
        "\n",
        "    def __len__(self):\n",
        "        return self.pages\n",
        "\n",
        "    def __del__(self):\n",
        "        print(\"Мы уничтожили книгу...\")"
      ],
      "metadata": {
        "id": "Yn4gHOqMi6nm"
      },
      "execution_count": null,
      "outputs": []
    },
    {
      "cell_type": "code",
      "source": [
        "book = Book(\"Гарри Поттер\", \"Джоан Роулинг\", 159)\n",
        "print(book)\n",
        "print(len(book))\n",
        "del book"
      ],
      "metadata": {
        "id": "WZB9AyubjwsR"
      },
      "execution_count": null,
      "outputs": []
    },
    {
      "cell_type": "markdown",
      "source": [
        "## Упражнения"
      ],
      "metadata": {
        "id": "zUIEc1oycViG"
      }
    },
    {
      "cell_type": "markdown",
      "source": [
        "- Допиши код, чтобы получился класс Прямоугольник (Rectangle) с двумя атрибутами \"ширина\" (width) и длина (length).\n",
        "\n",
        "  Реализуй два метода: метод area, который возвращает площадь прямоугольника, и метод perimeter, который возвращает периметр прямоугольника."
      ],
      "metadata": {
        "id": "nXe-yl2vee94"
      }
    },
    {
      "cell_type": "code",
      "source": [
        "class Rectangle:\n",
        "\n",
        "    def __init__(self, w, l): # конструктор\n",
        "        pass\n",
        "\n",
        "    def __str__(self): # Преобразование класса в строчку: для красивого вывода\n",
        "        pass\n",
        "\n",
        "    def area(self): # площадь\n",
        "        pass\n",
        "\n",
        "    def perimeter(self): # периметр\n",
        "        pass"
      ],
      "metadata": {
        "id": "cindl81defe2"
      },
      "execution_count": null,
      "outputs": []
    },
    {
      "cell_type": "code",
      "source": [
        "# Запусти код, чтобы проверить, как всё работает:\n",
        "\n",
        "# 1. Создать переменную\n",
        "rect1 = Rectangle(40, 40)\n",
        "# 2. Вывести объект (тут работает наш метод __str__)\n",
        "print(rect1)\n",
        "# 3. Вывести аттрибуты:\n",
        "print(f\"Длина: {rect1.width}, ширина: {rect1.length}\")\n",
        "# 4. Посмотреть, как работают методы:\n",
        "print(\"Площадь первого прямоугольника: \", rect1.area())\n",
        "print(\"Периметр первого прямоугольника: \", rect1.perimeter())\n",
        "\n",
        "rect2 = Rectangle(20, 30)\n",
        "print(rect2)\n",
        "print(\"Площадь второго прямоугольника: \", rect2.area())\n",
        "print(\"Периметр второго прямоугольника: \", rect2.perimeter())"
      ],
      "metadata": {
        "id": "gj4m_WLne9_t"
      },
      "execution_count": null,
      "outputs": []
    },
    {
      "cell_type": "markdown",
      "source": [
        "- Напиши класс \"Банковский аккаунт\" с двумя атрибутами \"пользователь\" (owner) и баланс (balance). Напиши два метода: пополнение денег (deposit) и снятие денег (withdraw)."
      ],
      "metadata": {
        "id": "IUg3ZAZicirV"
      }
    },
    {
      "cell_type": "code",
      "source": [
        "# Пиши код тут:\n",
        "\n",
        "class Account:\n",
        "  pass"
      ],
      "metadata": {
        "id": "ROG4UvgZc6rL"
      },
      "execution_count": 5,
      "outputs": []
    },
    {
      "cell_type": "code",
      "source": [
        "# Запусти код, чтобы проверить, что всё работает\n",
        "\n",
        "# 1. Создать переменную\n",
        "account = Account('Ivan', 100)\n",
        "# 2. Вывести объект\n",
        "print(account)\n",
        "# 3. Вывести пользователя\n",
        "print(account.owner)\n",
        "# 4. Вывести баланс\n",
        "print(account.balance)\n",
        "# 5. Положить и снять денежки\n",
        "account.deposit(50)\n",
        "account.withdraw(75)\n",
        "account.withdraw(500)"
      ],
      "metadata": {
        "id": "JZPRFCDrc9a4"
      },
      "execution_count": 3,
      "outputs": []
    },
    {
      "cell_type": "markdown",
      "source": [
        "## Игра \"Пьяница\""
      ],
      "metadata": {
        "id": "WYMQ2XKBlJUR"
      }
    },
    {
      "cell_type": "markdown",
      "source": [
        "Правила:\n",
        "\n",
        "*   Играют два человека\n",
        "*   Мешаем колоду из 36 карт и поровно раздаем игрокам\n",
        "*   Одновременно игроки достают верхнюю карту колоду. Тот, у кого карта больше, забирает карты и кладет вниз колоды\n",
        "*   Кто остается без карт, проиграл :)\n",
        "\n"
      ],
      "metadata": {
        "id": "2XMmzvhklawe"
      }
    },
    {
      "cell_type": "markdown",
      "source": [
        "### Шаг 1\n",
        "\n",
        "Какие объекты у нас присутствуют в игре?"
      ],
      "metadata": {
        "id": "rNSO8Nf7lO4Q"
      }
    },
    {
      "cell_type": "markdown",
      "source": [],
      "metadata": {
        "id": "A82RuiJDmRuJ"
      }
    },
    {
      "cell_type": "markdown",
      "source": [
        "### Шаг 2\n",
        "\n",
        "Создадим объект Card с атрибутами масть (suit) и значение карты (rank)"
      ],
      "metadata": {
        "id": "Jxhns7IHmTnb"
      }
    },
    {
      "cell_type": "code",
      "source": [
        "suits = ('Черви', 'Крести', 'Пики', 'Буби')\n",
        "ranks = ('Шестерка', 'Семерка', 'Восьмерка', 'Девятка', 'Десятка', 'Валет', 'Дама', 'Король', 'Туз')\n",
        "values = {'Шестерка':6, 'Семерка':7, 'Восьмерка':8, 'Девятка':9, 'Десятка':10, 'Валет':11, 'Дама':12, 'Король':13, 'Туз':14}"
      ],
      "metadata": {
        "id": "TU11CQwLmuCa"
      },
      "execution_count": null,
      "outputs": []
    },
    {
      "cell_type": "code",
      "source": [
        "class Card:\n",
        "\n",
        "    def __init__(self,suit,rank):\n",
        "        pass\n"
      ],
      "metadata": {
        "id": "YUr0FCrAmhOt"
      },
      "execution_count": null,
      "outputs": []
    },
    {
      "cell_type": "markdown",
      "source": [
        "### Шаг 3\n",
        "\n",
        "Создадим класс Deck (колода карт)"
      ],
      "metadata": {
        "id": "ka-vMcUNnPgw"
      }
    },
    {
      "cell_type": "code",
      "source": [
        "class Deck:\n",
        "\n",
        "    def __init__(self):\n",
        "        pass"
      ],
      "metadata": {
        "id": "U-uY_meFnUkb"
      },
      "execution_count": null,
      "outputs": []
    },
    {
      "cell_type": "code",
      "source": [],
      "metadata": {
        "id": "cEDmRzalnfrB"
      },
      "execution_count": null,
      "outputs": []
    },
    {
      "cell_type": "markdown",
      "source": [
        "### Шаг 4: продолжение следует..."
      ],
      "metadata": {
        "id": "MxApKMl5nhCD"
      }
    },
    {
      "cell_type": "markdown",
      "source": [
        "# Terminal\n",
        "\n",
        "https://terminal.c1games.com/home"
      ],
      "metadata": {
        "id": "HHG-i2g3RzFK"
      }
    },
    {
      "cell_type": "markdown",
      "source": [
        "## Правила, вкратце:\n",
        "\n",
        "Terminal — представитель игрового жанра Tower Defense. Это игра для двух игроков с одновременными ходами, действие которой происходит на арене ромбовидной формы. Один игрок занимает нижнюю половину арены, а другой игрок — верхнюю половину. Цель состоит в том, чтобы свести здоровье ваших противников к нулю. Вы можете сделать это, продвигая своих юнитов-солдат (mobile units) к границам противника и строя структуры (structures) для защиты своих границ."
      ],
      "metadata": {
        "id": "cLuJwHENT4zY"
      }
    },
    {
      "cell_type": "markdown",
      "source": [
        "Попробовать поиграть: https://terminal.c1games.com/playground"
      ],
      "metadata": {
        "id": "-XipIugtb-fh"
      }
    }
  ]
}